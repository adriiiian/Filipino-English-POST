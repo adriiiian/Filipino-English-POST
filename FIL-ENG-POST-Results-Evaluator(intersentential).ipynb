{
 "cells": [
  {
   "cell_type": "code",
   "execution_count": null,
   "metadata": {},
   "outputs": [],
   "source": [
    "import pandas as pd\n",
    "import numpy as np"
   ]
  },
  {
   "cell_type": "markdown",
   "metadata": {},
   "source": [
    "### Result Evaluation"
   ]
  },
  {
   "cell_type": "markdown",
   "metadata": {},
   "source": [
    "Reading the input file"
   ]
  },
  {
   "cell_type": "code",
   "execution_count": null,
   "metadata": {},
   "outputs": [],
   "source": [
    "input_dataframe = pd.read_json(\"input/intersentential.json\")\n",
    "display(input_dataframe)"
   ]
  },
  {
   "cell_type": "markdown",
   "metadata": {},
   "source": [
    "Reading the output files"
   ]
  },
  {
   "cell_type": "code",
   "execution_count": null,
   "metadata": {},
   "outputs": [],
   "source": [
    "ff_combi1_output = pd.read_csv(\"output/intersentential/Flair-FSPOST-Combination-1-intersentential.csv\")\n",
    "ff_combi2_output = pd.read_csv(\"output/intersentential/Flair-FSPOST-Combination-2-intersentential.csv\")\n",
    "sf_combi1_output = pd.read_csv(\"output/intersentential/Spacy-FSPOST-Combination-1-intersentential.csv\")\n",
    "sf_combi2_output = pd.read_csv(\"output/intersentential/Spacy-FSPOST-Combination-2-intersentential.csv\")"
   ]
  },
  {
   "cell_type": "markdown",
   "metadata": {},
   "source": [
    "Functions to be used for results evaluation"
   ]
  },
  {
   "cell_type": "code",
   "execution_count": null,
   "metadata": {},
   "outputs": [],
   "source": [
    "def fixed_columns(output):\n",
    "    output['general_tags'] = output['general_tags'].apply(eval)\n",
    "    output['specific_tags'] = output['specific_tags'].apply(eval)\n",
    "    output['token_tagset'] = output['token_tagset'].apply(eval)\n",
    "    \n",
    "    return output"
   ]
  },
  {
   "cell_type": "code",
   "execution_count": null,
   "metadata": {},
   "outputs": [],
   "source": [
    "def to_1D(series):\n",
    "    return pd.Series([x for _list in series for x in _list])"
   ]
  },
  {
   "cell_type": "code",
   "execution_count": null,
   "metadata": {},
   "outputs": [],
   "source": [
    "ff_combi1_output = fixed_columns(ff_combi1_output)\n",
    "ff_combi2_output = fixed_columns(ff_combi2_output)\n",
    "sf_combi1_output = fixed_columns(sf_combi1_output)\n",
    "sf_combi2_output = fixed_columns(sf_combi2_output)"
   ]
  },
  {
   "cell_type": "code",
   "execution_count": null,
   "metadata": {},
   "outputs": [],
   "source": [
    "ff_combi1_tag_counts = to_1D(ff_combi1_output['general_tags']).value_counts()\n",
    "ff_combi1_total = ff_combi1_tag_counts.sum()\n",
    "\n",
    "ff_combi2_tag_counts = to_1D(ff_combi2_output['general_tags']).value_counts()\n",
    "ff_combi2_total = ff_combi2_tag_counts.sum()\n",
    "\n",
    "sf_combi1_tag_counts = to_1D(sf_combi1_output['general_tags']).value_counts()\n",
    "sf_combi1_total = sf_combi1_tag_counts.sum()\n",
    "\n",
    "sf_combi2_tag_counts = to_1D(sf_combi2_output['general_tags']).value_counts()\n",
    "sf_combi2_total = sf_combi2_tag_counts.sum()"
   ]
  },
  {
   "cell_type": "code",
   "execution_count": null,
   "metadata": {},
   "outputs": [],
   "source": [
    "def print_tag_counts(tag_counts, total, tagger):\n",
    "    print(tag_counts)\n",
    "    print(tagger, \" total tokens: \", total, \"\\n\")"
   ]
  },
  {
   "cell_type": "code",
   "execution_count": null,
   "metadata": {},
   "outputs": [],
   "source": [
    "print_tag_counts(ff_combi1_tag_counts, ff_combi1_total, \"Flair-FSPOST Combi1\")\n",
    "print_tag_counts(ff_combi2_tag_counts, ff_combi2_total, \"Flair-FSPOST Combi2\")\n",
    "print_tag_counts(sf_combi1_tag_counts, sf_combi1_total, \"Spacy-FSPOST Combi1\")\n",
    "print_tag_counts(sf_combi2_tag_counts, sf_combi2_total, \"Spacy-FSPOST Combi2\")"
   ]
  },
  {
   "cell_type": "markdown",
   "metadata": {},
   "source": [
    "Overall Accuracy"
   ]
  },
  {
   "cell_type": "code",
   "execution_count": null,
   "metadata": {},
   "outputs": [],
   "source": [
    "pos_temp = []\n",
    "tags_list = []\n",
    "\n",
    "for i in range(len(input_dataframe)):\n",
    "    pos_temp.clear()\n",
    "    \n",
    "    for j in range(input_dataframe.iloc[i].count()):\n",
    "        pos_temp.append(input_dataframe.iloc[i][j].__getitem__(\"tag\"))\n",
    "    \n",
    "    temp = np.array(pos_temp)\n",
    "    tags_list.append(temp)"
   ]
  },
  {
   "cell_type": "code",
   "execution_count": null,
   "metadata": {},
   "outputs": [],
   "source": [
    "test_data_counts = to_1D(tags_list).value_counts()\n",
    "test_data_counts_total = test_data_counts.sum()\n",
    "\n",
    "print_tag_counts(test_data_counts, test_data_counts_total, \"Test data counts\")"
   ]
  },
  {
   "cell_type": "code",
   "execution_count": null,
   "metadata": {},
   "outputs": [],
   "source": [
    "def get_overall_accuracy(output):\n",
    "    accuracy = []\n",
    "    for i in range(len(tags_list)):\n",
    "        counter = 0\n",
    "        for j in range(len(tags_list[i])):\n",
    "            if tags_list[i][j] == output['general_tags'][i][j]:\n",
    "                counter = counter + 1\n",
    "                \n",
    "        accuracy.append(counter / len(tags_list[i]))\n",
    "        \n",
    "    return accuracy"
   ]
  },
  {
   "cell_type": "code",
   "execution_count": null,
   "metadata": {},
   "outputs": [],
   "source": [
    "def print_overall_accuracy(output, tagger):\n",
    "    accuracy = get_overall_accuracy(output)\n",
    "    print(tagger, ' accuracy: %f' % (sum(accuracy) / len(accuracy)))"
   ]
  },
  {
   "cell_type": "code",
   "execution_count": null,
   "metadata": {},
   "outputs": [],
   "source": [
    "print_overall_accuracy(ff_combi1_output, \"Flair-FSPOST Combi1\")\n",
    "print_overall_accuracy(sf_combi1_output, \"Spacy-FSPOST Combi1\")\n",
    "print_overall_accuracy(ff_combi2_output, \"Flair-FSPOST Combi2\")\n",
    "print_overall_accuracy(sf_combi2_output, \"Spacy-FSPOST Combi2\")"
   ]
  },
  {
   "cell_type": "markdown",
   "metadata": {},
   "source": [
    "Taking the Accuracy per POS tag"
   ]
  },
  {
   "cell_type": "code",
   "execution_count": null,
   "metadata": {},
   "outputs": [],
   "source": [
    "possible_tags = ['NOUN', 'PROPN', 'PR', 'DT', 'LM', 'CONJ', 'CCP', 'IN', 'VB', 'JJ', 'CD', 'RB', 'UH',\n",
    "                  'TS', 'FW', 'PUNC', 'SYM', 'EX', 'TO', 'ADD', 'POS', 'PDT', 'XX', 'MD', 'AFX']"
   ]
  },
  {
   "cell_type": "code",
   "execution_count": null,
   "metadata": {},
   "outputs": [],
   "source": [
    "def get_accuracy_per_tags(output, tag):\n",
    "    counter_right = 0\n",
    "    counter_total = 0\n",
    "    for i in range(len(tags_list)):\n",
    "        for j in range(len(tags_list[i])):\n",
    "            if tags_list[i][j] == tag:\n",
    "                counter_total = counter_total + 1\n",
    "                if tags_list[i][j] == 'VB':\n",
    "                    if (output['general_tags'][i][j] == 'VB' or output['general_tags'][i][j] == 'VBPT' or\n",
    "                    output['general_tags'][i][j] == 'VBPR' or output['general_tags'][i][j] == 'VBFT'):\n",
    "                        counter_right = counter_right + 1\n",
    "                elif tags_list[i][j] == output['general_tags'][i][j]:\n",
    "                    counter_right = counter_right + 1\n",
    "    \n",
    "    if counter_total == 0:\n",
    "        return None\n",
    "    else:\n",
    "        return counter_right / counter_total * 100"
   ]
  },
  {
   "cell_type": "code",
   "execution_count": null,
   "metadata": {},
   "outputs": [],
   "source": [
    "def print_accuracy_per_tags(output, tagger):\n",
    "    print(\"Tagger: \", tagger)\n",
    "    for i in range(len(possible_tags)):\n",
    "        accuracy = get_accuracy_per_tags(output, possible_tags[i])\n",
    "        if accuracy != None:\n",
    "            print('POS Tag: ', possible_tags[i], ' accuracy: %f' % accuracy)\n",
    "            \n",
    "    print(\"\\n\")"
   ]
  },
  {
   "cell_type": "code",
   "execution_count": null,
   "metadata": {},
   "outputs": [],
   "source": [
    "print_accuracy_per_tags(ff_combi1_output, \"Flair-FSPOST Combi1\")\n",
    "print_accuracy_per_tags(sf_combi1_output, \"Spacy-FSPOST Combi1\")\n",
    "print_accuracy_per_tags(ff_combi2_output, \"Flair-FSPOST Combi2\")\n",
    "print_accuracy_per_tags(sf_combi2_output, \"Spacy-FSPOST Combi2\")"
   ]
  },
  {
   "cell_type": "markdown",
   "metadata": {},
   "source": [
    "Genarating Confusion Matrix"
   ]
  },
  {
   "cell_type": "code",
   "execution_count": null,
   "metadata": {},
   "outputs": [],
   "source": [
    "from sklearn import metrics\n",
    "import matplotlib.pyplot as plt\n",
    "import seaborn as sns"
   ]
  },
  {
   "cell_type": "code",
   "execution_count": null,
   "metadata": {},
   "outputs": [],
   "source": [
    "actual_tags = []\n",
    "predicted_tags = []\n",
    "for i in range(len(tags_list)):\n",
    "    for j in range(len(tags_list[i])):\n",
    "        actual_tags.append(tags_list[i][j])\n",
    "        if (ff_combi1_output['general_tags'][i][j] == 'VB' or ff_combi1_output['general_tags'][i][j] == 'VBPT' or\n",
    "                ff_combi1_output['general_tags'][i][j] == 'VBPR' or ff_combi1_output['general_tags'][i][j] == 'VBFT'):\n",
    "            predicted_tags.append('VB')\n",
    "        else:\n",
    "            predicted_tags.append(ff_combi1_output['general_tags'][i][j])"
   ]
  },
  {
   "cell_type": "code",
   "execution_count": null,
   "metadata": {},
   "outputs": [],
   "source": [
    "# dataset_pos_tags = ['NOUN', 'PROPN', 'PR', 'DT', 'LM', 'CONJ', 'CCP', 'IN', 'VB', 'JJ', 'CD', 'RB', 'UH',\n",
    "#                  'TS', 'FW', 'PUNC', 'SYM', 'EX', 'TO', 'POS', 'XX', 'MD']\n",
    "\n",
    "# VERB\n",
    "# dataset_pos_tags = ['NOUN', 'CONJ', 'VB', 'PR', 'JJ', 'RB', 'PUNC', 'DT', 'CCP', 'PROPN', 'MD', 'UH', 'CD', 'TO', 'LM', 'IN']\n",
    "\n",
    "#Homographs\n",
    "# dataset_pos_tags = ['NOUN', 'CONJ', 'VB', 'RB', 'PR', 'DT', 'PUNC', 'PROPN', 'JJ', 'CCP', 'CD', 'LM', 'SYM', 'IN', 'XX', 'UH', 'TO', 'MD', 'FW']\n",
    "\n",
    "#Intersentential\n",
    "dataset_pos_tags = ['NOUN', 'CONJ', 'PUNC', 'PR', 'VB', 'RB', 'JJ', 'DT', 'PROPN', 'CD', 'IN', 'TO', 'LM', 'CCP', 'SYM', 'UH', 'MD']"
   ]
  },
  {
   "cell_type": "code",
   "execution_count": null,
   "metadata": {},
   "outputs": [],
   "source": [
    "def clean_labels(label):\n",
    "    return str(label).replace(\"['\", '').replace(\"']\", '')"
   ]
  },
  {
   "cell_type": "code",
   "execution_count": null,
   "metadata": {},
   "outputs": [],
   "source": [
    "def generate_confusion_matrix(combi):\n",
    "    actual_tags = []\n",
    "    predicted_tags = []\n",
    "    for i in range(len(tags_list)):\n",
    "        for j in range(len(tags_list[i])):\n",
    "            actual_tags.append(tags_list[i][j])\n",
    "            if (combi['general_tags'][i][j] == 'VB' or combi['general_tags'][i][j] == 'VBPT' or\n",
    "                    combi['general_tags'][i][j] == 'VBPR' or combi['general_tags'][i][j] == 'VBFT'):\n",
    "                predicted_tags.append('VB')\n",
    "            else:\n",
    "                predicted_tags.append(combi['general_tags'][i][j])\n",
    "            \n",
    "    np.seterr(invalid='ignore')\n",
    "    plt.figure(figsize=(60, 40))\n",
    "    plt.rcParams.update({'font.size': 32})\n",
    "    cm = metrics.confusion_matrix(actual_tags, predicted_tags, labels=dataset_pos_tags, normalize='true')\n",
    "    cm_df = pd.DataFrame(cm, columns=dataset_pos_tags)\n",
    "    order = np.argsort(-cm_df.to_numpy().diagonal())\n",
    "    \n",
    "    label_df = pd.DataFrame(dataset_pos_tags)\n",
    "    label_df = label_df.iloc[order].to_numpy()\n",
    "    \n",
    "    labels = []\n",
    "    for i in range(len(label_df)):\n",
    "        labels.append(clean_labels(label_df[i]))\n",
    "    \n",
    "    fx = sns.heatmap(cm_df.iloc[order, order], annot=True, fmt=\".2f\", cmap=plt.cm.Blues)\n",
    "    fx.set_title('Confusion Matrix \\n')\n",
    "    fx.set_xlabel('\\n Predicted Values\\n')\n",
    "    fx.set_ylabel('\\n Actual Values\\n')\n",
    "    fx.xaxis.set_ticklabels(labels)\n",
    "    fx.yaxis.set_ticklabels(labels)\n",
    "    plt.show()\n",
    "    \n",
    "    print(metrics.classification_report(actual_tags, predicted_tags))"
   ]
  },
  {
   "cell_type": "code",
   "execution_count": null,
   "metadata": {},
   "outputs": [],
   "source": [
    "generate_confusion_matrix(ff_combi1_output)"
   ]
  },
  {
   "cell_type": "code",
   "execution_count": null,
   "metadata": {},
   "outputs": [],
   "source": [
    "generate_confusion_matrix(sf_combi1_output)"
   ]
  },
  {
   "cell_type": "code",
   "execution_count": null,
   "metadata": {},
   "outputs": [],
   "source": [
    "generate_confusion_matrix(ff_combi2_output)"
   ]
  },
  {
   "cell_type": "code",
   "execution_count": null,
   "metadata": {},
   "outputs": [],
   "source": [
    "generate_confusion_matrix(sf_combi2_output)"
   ]
  },
  {
   "cell_type": "code",
   "execution_count": null,
   "metadata": {},
   "outputs": [],
   "source": []
  }
 ],
 "metadata": {
  "kernelspec": {
   "display_name": "project_env",
   "language": "python",
   "name": "python3"
  },
  "language_info": {
   "codemirror_mode": {
    "name": "ipython",
    "version": 3
   },
   "file_extension": ".py",
   "mimetype": "text/x-python",
   "name": "python",
   "nbconvert_exporter": "python",
   "pygments_lexer": "ipython3",
   "version": "3.8.10"
  },
  "orig_nbformat": 4
 },
 "nbformat": 4,
 "nbformat_minor": 2
}
